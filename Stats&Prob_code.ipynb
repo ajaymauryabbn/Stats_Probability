{
 "cells": [
  {
   "cell_type": "markdown",
   "id": "272d6e97",
   "metadata": {},
   "source": [
    "## Hypothesis Testing.\n",
    "when we need to check sample belongs to same population\n",
    "### Question-\n",
    "An institution claims that the candidates who study there have more IQ than the average institution. When the IQ of 50 students was calculated, the average turned out to be 110.\n",
    "\n",
    "The mean of the population IQ is 100 and the standard deviation is 15. Find the validity of the claim with a significance level of 5%.\n"
   ]
  },
  {
   "cell_type": "code",
   "execution_count": 66,
   "id": "baed2efe",
   "metadata": {},
   "outputs": [
    {
     "name": "stdout",
     "output_type": "stream",
     "text": [
      "Observed sample mean =  110\n",
      "Test statistic =  4.71\n",
      "Critical value: +/- 1.6766\n",
      "Reject H0\n"
     ]
    }
   ],
   "source": [
    "import numpy as np\n",
    "from scipy.stats import ttest_ind_from_stats\n",
    "from scipy.stats import t\n",
    "mean = 110  # sample mean\n",
    "mu = 100  # population mean\n",
    "sd = 15   # population standard deviation\n",
    "n = 50    #sample size\n",
    "## Here, we approximate the one sample test with the two sample test as follows:\n",
    "print(\"Observed sample mean = \", mean)\n",
    "t_stat = (mean - mu) / (sd / np.sqrt(n))\n",
    "print(\"Test statistic = \", round(t_stat, 2))\n",
    "critical_value = round(t.ppf(0.95, df=n-1), 4)  # claulating ppf vaalue based on 95 % significant test & n-1 degree of freedom\n",
    "print(\"Critical value: +/-\", np.abs(critical_value))\n",
    "\n",
    "if t_stat < critical_value or t_stat > np.abs(critical_value): # here it is for 2 tailed test\n",
    " print(\"Reject H0\")\n",
    "else: \n",
    " print(\"Fail to reject H0\")"
   ]
  },
  {
   "cell_type": "markdown",
   "id": "c5057115",
   "metadata": {},
   "source": [
    "## Finding Outliers using IQR method "
   ]
  },
  {
   "cell_type": "code",
   "execution_count": 67,
   "id": "f2a0feb5",
   "metadata": {},
   "outputs": [],
   "source": [
    "def find_outliers_iqr(column):\n",
    "    # calculate the first (25th) and third (75th) quartile values\n",
    "    Q1, Q3 = column.quantile([0.25, 0.75])\n",
    "    \n",
    "    # calculate the interquartile range (IQR)\n",
    "    IQR = Q3 - Q1\n",
    "    \n",
    "    # define the lower and upper bounds\n",
    "    lower_bound = Q1 - 1.5 * IQR\n",
    "    upper_bound = Q3 + 1.5 * IQR\n",
    "    \n",
    "    # return the values that fall outside of the bounds\n",
    "    outliers = column[(column < lower_bound) | (column > upper_bound)]\n",
    "    return outliers\n"
   ]
  },
  {
   "cell_type": "markdown",
   "id": "6827dba2",
   "metadata": {},
   "source": [
    "## Finding outlier using z-score methods"
   ]
  },
  {
   "cell_type": "code",
   "execution_count": 70,
   "id": "c03aa070",
   "metadata": {},
   "outputs": [],
   "source": [
    "import numpy as np\n",
    "\n",
    "def find_outliers_zscore(column):\n",
    "    # calculate the mean and standard deviation of the column\n",
    "    mean = column.mean()\n",
    "    std = column.std()\n",
    "    \n",
    "    # calculate the Z-scores for each value in the column\n",
    "    z_scores = (column - mean) / std\n",
    "    \n",
    "    # define a threshold for outliers (e.g., 3 standard deviations from the mean)\n",
    "    threshold = 3\n",
    "    \n",
    "    # return the values that have Z-scores greater than the threshold\n",
    "    outliers = column[np.abs(z_scores) > threshold]\n",
    "    return outliers\n"
   ]
  },
  {
   "cell_type": "code",
   "execution_count": null,
   "id": "aeab0f29",
   "metadata": {},
   "outputs": [],
   "source": []
  }
 ],
 "metadata": {
  "kernelspec": {
   "display_name": "Python 3 (ipykernel)",
   "language": "python",
   "name": "python3"
  },
  "language_info": {
   "codemirror_mode": {
    "name": "ipython",
    "version": 3
   },
   "file_extension": ".py",
   "mimetype": "text/x-python",
   "name": "python",
   "nbconvert_exporter": "python",
   "pygments_lexer": "ipython3",
   "version": "3.9.13"
  }
 },
 "nbformat": 4,
 "nbformat_minor": 5
}
